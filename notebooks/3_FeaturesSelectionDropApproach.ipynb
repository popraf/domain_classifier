{
 "cells": [
  {
   "cell_type": "markdown",
   "metadata": {},
   "source": [
    "## Data cleaning & EDA"
   ]
  },
  {
   "cell_type": "code",
   "execution_count": null,
   "metadata": {},
   "outputs": [],
   "source": [
    "import re\n",
    "import pandas as pd"
   ]
  },
  {
   "cell_type": "code",
   "execution_count": null,
   "metadata": {},
   "outputs": [],
   "source": [
    "df_benign = pd.read_csv('../Data/CSV_benign.csv')\n",
    "df_malware = pd.read_csv('../Data/CSV_malware.csv')\n",
    "\n",
    "# 'Country' column name is duplicated in malware csv, therefore I decided to rename both. While reading it, pandas reads duplicated column name with '.1' suffix\n",
    "df_benign.rename(columns={'Country.1':'Country_1'}, inplace=True)\n",
    "df_malware.rename(columns={'Country.1':'Country_1'}, inplace=True)\n",
    "\n",
    "# Reindex columns\n",
    "df_benign = df_benign.reindex(sorted(df_benign.columns), axis=1)\n",
    "df_malware = df_malware.reindex(sorted(df_malware.columns), axis=1)\n",
    "# df_malware.head(3)"
   ]
  },
  {
   "cell_type": "code",
   "execution_count": null,
   "metadata": {},
   "outputs": [],
   "source": [
    "# By digging into missmatch in dtypes, I was able to identify 'mixing' of columns data in 24 records of df_malware.\n",
    "# To fix it, following steps are taken: 1. Identify incorrect rows by checking len of IP column,\n",
    "#   2. Get records into new df\n",
    "#   3. Rename columns\n",
    "#   4. Drop incorrect rows from df_malware\n",
    "#   5. Concatenate fixed data to df_malware\n",
    "\n",
    "incorrect_rows_idx = df_malware.index[df_malware['IP'].str.len()==2]\n",
    "df_incorrect_rows = df_malware.iloc[incorrect_rows_idx]\n",
    "\n",
    "# Applies to df_malware only - rename of columns for 24 records\n",
    "col_val_replace_to = {\n",
    "    'Country': 'TTL',\n",
    "    'TTL': 'Domain',\n",
    "    'IP': 'Country',\n",
    "    'Domain': 'IP',\n",
    "}\n",
    "\n",
    "df_incorrect_rows.rename(columns=col_val_replace_to, inplace=True) # Apply rename\n",
    "df_malware.drop(incorrect_rows_idx, axis=0, inplace=True) # Drop from malware df incorrect rows\n",
    "df_malware = pd.concat([df_malware, df_incorrect_rows], ignore_index=False) # Concatenate fixed data"
   ]
  },
  {
   "cell_type": "code",
   "execution_count": null,
   "metadata": {},
   "outputs": [],
   "source": [
    "# To mitigate missing values across similar columns like Domain, Domain_Name and Country, Country_1, following code is applied to df's\n",
    "# The code also applies mapping to unify a bit entries\n",
    "countries_map = {\n",
    "    '-':'',\n",
    "    \"china\":\"CN\",\n",
    "    \"Malaysia\":'ID',\n",
    "    \"United States\":\"US\",\n",
    "    \"TURKEY\":'TR',\n",
    "    'RUSSIA':'RU',\n",
    "    'Russian Federation':'RU',\n",
    "    'Belarus':'BY',\n",
    "    'Korea':'KR',\n",
    "}\n",
    "\n",
    "def use_regex(input_text):\n",
    "    return re.sub(r\"b'(.+?).'\", r\"\\1\", input_text)\n",
    "\n",
    "def impute_similar_cols(df):\n",
    "    df[\"Country_1\"].replace(countries_map, inplace=True)\n",
    "    df[\"Country\"].replace(countries_map, inplace=True)\n",
    "    df[\"Country_1\"].fillna(df[\"Country\"], inplace=True)\n",
    "    df[\"Country\"].fillna(df[\"Country_1\"], inplace=True)\n",
    "    df[\"Domain_Name\"].fillna(df[\"Domain\"].apply(use_regex), inplace=True)\n",
    "    return df\n",
    "\n",
    "df_malware = impute_similar_cols(df_malware)\n",
    "df_benign = impute_similar_cols(df_benign)"
   ]
  },
  {
   "cell_type": "code",
   "execution_count": null,
   "metadata": {},
   "outputs": [],
   "source": [
    "# # Store data to csv for manual analysis\n",
    "# df_benign.to_csv('./tmp/df_benign_filled.csv')\n",
    "# df_malware.to_csv('./tmp/df_malware_filled.csv')"
   ]
  },
  {
   "cell_type": "markdown",
   "metadata": {},
   "source": [
    "## References\n",
    "\n",
    "Samaneh Mahdavifar, Nasim Maleki, Arash Habibi Lashkari, Matt Broda, Amir H. Razavi, “Classifying Malicious Domains using DNS Traffic Analysis”, The 19th IEEE International Conference on Dependable, Autonomic, and Secure Computing (DASC), Oct. 25-28, 2021, Calgary, Canada"
   ]
  },
  {
   "cell_type": "markdown",
   "metadata": {},
   "source": []
  }
 ],
 "metadata": {
  "kernelspec": {
   "display_name": "domain_classifier",
   "language": "python",
   "name": "python3"
  },
  "language_info": {
   "codemirror_mode": {
    "name": "ipython",
    "version": 3
   },
   "file_extension": ".py",
   "mimetype": "text/x-python",
   "name": "python",
   "nbconvert_exporter": "python",
   "pygments_lexer": "ipython3",
   "version": "3.11.5"
  }
 },
 "nbformat": 4,
 "nbformat_minor": 2
}
